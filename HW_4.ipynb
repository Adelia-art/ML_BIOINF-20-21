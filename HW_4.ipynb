{
 "cells": [
  {
   "cell_type": "code",
   "execution_count": 18,
   "metadata": {},
   "outputs": [],
   "source": [
    "import numpy as np\n",
    "import pandas as pd\n",
    "from collections import defaultdict, Counter\n",
    "import matplotlib.pyplot as plt\n",
    "import seaborn as sns; sns.set()\n",
    "from scipy.spatial import distance\n",
    "from sklearn.decomposition import PCA\n",
    "from sklearn.metrics import accuracy_score\n",
    "from sklearn.preprocessing import StandardScaler\n",
    "from sklearn.model_selection import train_test_split\n",
    "from sklearn.tree import DecisionTreeClassifier\n",
    "from sklearn.model_selection import KFold"
   ]
  },
  {
   "cell_type": "markdown",
   "metadata": {},
   "source": [
    "# Задание 1"
   ]
  },
  {
   "cell_type": "code",
   "execution_count": 19,
   "metadata": {},
   "outputs": [],
   "source": [
    "class DecisionTree():\n",
    "    class Node():\n",
    "        def __init__(self):\n",
    "            self.rule = -1\n",
    "            self.threshold = None\n",
    "            self.left_node = None\n",
    "            self.right_node = None\n",
    "            self.node_class = None\n",
    "            \n",
    "    def __init__(self, debug=''):\n",
    "        self.tree = None\n",
    "        self.debug = debug\n",
    "        self.impurity_f = {\n",
    "            'entropy': self.get_entropy,\n",
    "            'gini': self.get_gini\n",
    "        }\n",
    "    \n",
    "    def get_entropy(self, cnt, n): \n",
    "        entropy = 0\n",
    "        for _, class_n in cnt.most_common():\n",
    "            if class_n > 0:\n",
    "                entropy -= (class_n/n * np.log2(class_n/n))\n",
    "        return entropy\n",
    "    \n",
    "    def get_gini(self, cnt, n):\n",
    "        gini = 0\n",
    "        for _, class_n in cnt.most_common():\n",
    "            gini += class_n/n * (1 - class_n/n)\n",
    "        return gini\n",
    "        \n",
    "    def get_IG_threshold(self, v, y, n, impurity_f):\n",
    "        sorted_vy = sorted(list(zip(v, y)))\n",
    "        best_threshold = None\n",
    "        best_IG = None\n",
    "        y_left_cnt = Counter()\n",
    "        y_right_cnt = Counter([t[1] for t in sorted_vy[0:]])\n",
    "        n_left = 0\n",
    "        n_right = len(sorted_vy)\n",
    "        total_IG = n_right/n * impurity_f(y_right_cnt, n_right) # all values    \n",
    "        for pos, (v, y) in enumerate(sorted_vy):\n",
    "            if pos > 0 and (sorted_vy[pos][0] != sorted_vy[pos-1][0]):\n",
    "                left_IG = n_left/n * impurity_f(y_left_cnt, n_left)\n",
    "                right_IG = n_right/n * impurity_f(y_right_cnt, n_right)\n",
    "                IG = total_IG - left_IG - right_IG\n",
    "                if best_IG is None or IG > best_IG:\n",
    "                    best_IG = IG\n",
    "                    best_threshold = v\n",
    "            y_left_cnt[y] = y_left_cnt[y] + 1\n",
    "            n_left += 1\n",
    "            y_right_cnt[y] -= 1\n",
    "            n_right -= 1\n",
    "        return best_IG, best_threshold\n",
    "    def build_tree(self, node, X, y, n, level, max_level, impurity):\n",
    "        cnt_y = Counter(y)\n",
    "        if len(cnt_y) == 1:\n",
    "            node.node_class = y[0]\n",
    "            return\n",
    "        if level == max_level:\n",
    "            node.node_class = cnt_y.most_common()[0][0]\n",
    "            return\n",
    "        features_num = X.shape[1]\n",
    "        features2IG = []\n",
    "        for feature in range(0, features_num):\n",
    "            IG, threshold = self.get_IG_threshold(X[:, feature], y, n, self.impurity_f[impurity])\n",
    "            if IG is not None:\n",
    "                features2IG.append((IG, threshold, feature))\n",
    "        if len(features2IG) == 0:\n",
    "            node.node_class = y[0]\n",
    "            return\n",
    "        IG, threshold, best_feature = sorted(features2IG, reverse=True)[0] # get always max\n",
    "        node.IG = IG\n",
    "        node.rule = best_feature\n",
    "        node.threshold = threshold\n",
    "        if 'v' in self.debug:\n",
    "            print(f\"[L{level}] n: {X.shape[0]}, feature: {node.rule}, threshold: {node.threshold}, IG: {IG}\")\n",
    "        \n",
    "        # Left subtree\n",
    "        node.left_node = self.Node()\n",
    "        if 'vvv' in self.debug:\n",
    "            print(f\"[L{level}] Samples to left: {X[X[:, best_feature] < threshold].shape[0]}\")\n",
    "        self.build_tree(node.left_node,\n",
    "                        X[X[:, best_feature] < threshold],\n",
    "                        y[X[:, best_feature] < threshold],\n",
    "                        n, level+1, max_level, impurity)\n",
    "        # Right subtree\n",
    "        node.right_node = self.Node()\n",
    "        if 'vvv' in self.debug:\n",
    "            print(f\"[L{level}] Samples to right: {X[X[:, best_feature] >= threshold].shape[0]}\")\n",
    "        self.build_tree(node.right_node,\n",
    "                        X[X[:, best_feature] >= threshold],\n",
    "                        y[X[:, best_feature] >= threshold],\n",
    "                        n, level+1, max_level, impurity) \n",
    "        return\n",
    "        \n",
    "    \n",
    "    def fit(self, X, y, max_level=10, impurity='entropy'):\n",
    "        self.tree = self.Node()\n",
    "        self.build_tree(self.tree, X, y, X.shape[0], 0, max_level, impurity)\n",
    "        \n",
    "    def predict(self, X):\n",
    "        predictions = []\n",
    "        for sample in X:\n",
    "            current_node = self.tree\n",
    "            while current_node.node_class is None:\n",
    "                if sample[current_node.rule] < current_node.threshold:\n",
    "                    current_node = current_node.left_node\n",
    "                else:\n",
    "                    current_node = current_node.right_node\n",
    "            predictions.append(current_node.node_class)\n",
    "        return predictions"
   ]
  },
  {
   "cell_type": "code",
   "execution_count": 20,
   "metadata": {},
   "outputs": [],
   "source": [
    "class RandomForest():\n",
    "    def __init__(self):\n",
    "        self.trees = []\n",
    "        self.features_idx = []\n",
    "        \n",
    "    def fit(self, X, y, ntree=10, max_depth=None):\n",
    "        n_samples = X.shape[0]\n",
    "        m_features = X.shape[1]\n",
    "        sampsize = int(np.round(0.632 * n_samples))\n",
    "        mtry = int(np.round(np.sqrt(m_features)))\n",
    "        for _ in range(ntree):\n",
    "            tree = DecisionTree(debug='')\n",
    "            row_idx = np.random.randint(0, n_samples, sampsize)\n",
    "            col_idx = np.random.randint(0, m_features, mtry)\n",
    "            tree.fit(X[row_idx[:, None], col_idx], y[row_idx], max_level=max_depth, impurity='gini')\n",
    "            self.trees.append(tree)\n",
    "            self.features_idx.append(col_idx)\n",
    "    \n",
    "    def predict(self, X, n_classes=2, voting='soft'):\n",
    "        ntree = len(self.trees)\n",
    "        n_samples = X.shape[0]\n",
    "        predictions = np.zeros([ntree, n_samples, n_classes]) # 3d-array of shape <ntree, test_size, n_classes>\n",
    "        for i in range(0, ntree):\n",
    "            P = np.zeros([n_samples, n_classes])\n",
    "            P[np.arange(n_samples), self.trees[i].predict(X[:, self.features_idx[i]])] = 1\n",
    "            predictions[i, :, :] = P\n",
    "        mean_predictions = np.mean(predictions, axis=0)\n",
    "        classes = np.argmax(mean_predictions, axis=1)\n",
    "        return mean_predictions, classes"
   ]
  },
  {
   "cell_type": "markdown",
   "metadata": {},
   "source": [
    "# Задание 3"
   ]
  },
  {
   "cell_type": "code",
   "execution_count": 21,
   "metadata": {},
   "outputs": [],
   "source": [
    "def ROC_AUC(y, probabilities):\n",
    "    shifts = sorted(list(zip(probabilities, y)), reverse=True)\n",
    "    step_x = 1/np.where(y != 1)[0].shape[0]\n",
    "    step_y = 1/np.where(y == 1)[0].shape[0]\n",
    "    points_x = [0]\n",
    "    points_y = [0]\n",
    "    last_x = 0\n",
    "    last_y = 0\n",
    "    auc = 0\n",
    "    for prob, sample_y in shifts:\n",
    "        if sample_y == 1:\n",
    "            points_x.append(last_x)\n",
    "            last_y += step_y\n",
    "            points_y.append(last_y)\n",
    "        else:\n",
    "            points_y.append(last_y)\n",
    "            last_x += step_x\n",
    "            points_x.append(last_x)\n",
    "            auc += step_x * last_y\n",
    "    return auc, points_x, points_y"
   ]
  },
  {
   "cell_type": "markdown",
   "metadata": {},
   "source": [
    "### Spam dataset"
   ]
  },
  {
   "cell_type": "code",
   "execution_count": 22,
   "metadata": {},
   "outputs": [],
   "source": [
    "spam_df = pd.read_csv('spam.csv')\n",
    "X = spam_df[spam_df.columns.difference(['label'])].values\n",
    "y = spam_df.label.values\n",
    "X_train, X_test, y_train, y_test = train_test_split(X, y, test_size=0.2, random_state=42)"
   ]
  },
  {
   "cell_type": "markdown",
   "metadata": {},
   "source": [
    "20 trees, max_depth = 3"
   ]
  },
  {
   "cell_type": "code",
   "execution_count": 23,
   "metadata": {},
   "outputs": [
    {
     "data": {
      "text/plain": [
       "Text(0.5, 1.0, '[SPAM], ntree: 20, max_depth:3, AUC: 0.962615288039018, accuracy: 0.8262757871878393')"
      ]
     },
     "execution_count": 23,
     "metadata": {},
     "output_type": "execute_result"
    },
    {
     "data": {
      "image/png": "[encoded data removed]",
      "text/plain": [
       "<Figure size 864x576 with 1 Axes>"
      ]
     },
     "metadata": {},
     "output_type": "display_data"
    }
   ],
   "source": [
    "ntree = 20\n",
    "max_depth = 3\n",
    "rf = RandomForest()\n",
    "rf.fit(X_train, y_train, ntree=ntree, max_depth=max_depth)\n",
    "probs, classes = rf.predict(X_test)\n",
    "\n",
    "auc, points_x, points_y = ROC_AUC(y_test, probs[:, 1]) # probabilities of the 2nd class\n",
    "accuracy = accuracy_score(y_test, classes)\n",
    "\n",
    "plt.figure(figsize=(12, 8))\n",
    "plt.plot(points_x, points_y)\n",
    "plt.title(f\"[SPAM], ntree: {ntree}, max_depth:{max_depth}, AUC: {auc}, accuracy: {accuracy}\")"
   ]
  },
  {
   "cell_type": "markdown",
   "metadata": {},
   "source": [
    "Cross validation"
   ]
  },
  {
   "cell_type": "code",
   "execution_count": 25,
   "metadata": {},
   "outputs": [
    {
     "name": "stdout",
     "output_type": "stream",
     "text": [
      "ntree: 5, max_depth: 2, auc: 0.9519153306940284\n",
      "ntree: 5, max_depth: 3, auc: 0.9514561671157434\n",
      "ntree: 5, max_depth: 5, auc: 0.9672998085961778\n",
      "ntree: 5, max_depth: 7, auc: 0.9641645225748225\n",
      "ntree: 5, max_depth: 10, auc: 0.9556222951911748\n",
      "ntree: 10, max_depth: 2, auc: 0.9544905229432009\n",
      "ntree: 10, max_depth: 3, auc: 0.9563713564138213\n",
      "ntree: 10, max_depth: 5, auc: 0.958540428472159\n",
      "ntree: 10, max_depth: 7, auc: 0.9593752382566512\n",
      "ntree: 10, max_depth: 10, auc: 0.9618414735638312\n",
      "ntree: 20, max_depth: 2, auc: 0.954805585249372\n",
      "ntree: 20, max_depth: 3, auc: 0.9594582405654913\n",
      "ntree: 20, max_depth: 5, auc: 0.9577034407172675\n",
      "ntree: 20, max_depth: 7, auc: 0.9579177174969191\n",
      "ntree: 20, max_depth: 10, auc: 0.9660447901545043\n",
      "ntree: 30, max_depth: 2, auc: 0.9574784018361994\n",
      "ntree: 30, max_depth: 3, auc: 0.9568651389040055\n",
      "ntree: 30, max_depth: 5, auc: 0.9575541445502822\n",
      "ntree: 30, max_depth: 7, auc: 0.9634157992834715\n",
      "ntree: 30, max_depth: 10, auc: 0.9654842415516306\n",
      "ntree: 50, max_depth: 2, auc: 0.9544401939444473\n",
      "ntree: 50, max_depth: 3, auc: 0.9568716356725542\n",
      "ntree: 50, max_depth: 5, auc: 0.9606377022991233\n",
      "ntree: 50, max_depth: 7, auc: 0.9655452589904403\n",
      "ntree: 50, max_depth: 10, auc: 0.9645608236776979\n",
      "ntree: 100, max_depth: 2, auc: 0.9530090288960744\n",
      "ntree: 100, max_depth: 3, auc: 0.9567040724581876\n",
      "ntree: 100, max_depth: 5, auc: 0.9619901511450684\n",
      "ntree: 100, max_depth: 7, auc: 0.9646156566040889\n",
      "ntree: 100, max_depth: 10, auc: 0.966699001967249\n",
      "--\n",
      "best ntree: 5, best max_depth: 5, AUC: 0.9672998085961778\n"
     ]
    }
   ],
   "source": [
    "ntree_p = [5, 10, 20, 30, 50, 100]\n",
    "max_depth_p = [2, 3, 5, 7, 10]\n",
    "\n",
    "best_auc = None\n",
    "best_ntree = None\n",
    "best_max_depth = None\n",
    "\n",
    "kf = KFold(n_splits=5, random_state=42, shuffle=True)\n",
    "for ntree in ntree_p:\n",
    "    for max_depth in max_depth_p:\n",
    "        roc_auc_CV = []\n",
    "        for train_index, val_index in kf.split(X_train):\n",
    "            X_train_new, X_val = X_train[train_index], X_train[val_index]\n",
    "            y_train_new, y_val = y_train[train_index], y_train[val_index]\n",
    "            rf = RandomForest()\n",
    "            rf.fit(X_train_new, y_train_new, ntree=ntree, max_depth=max_depth)\n",
    "            probs, classes = rf.predict(X_val)\n",
    "            auc, points_x, points_y = ROC_AUC(y_val, probs[:, 1])\n",
    "            roc_auc_CV.append(auc)\n",
    "        auc = np.mean(roc_auc_CV)\n",
    "        print(f\"ntree: {ntree}, max_depth: {max_depth}, auc: {auc}\")\n",
    "        if not best_auc or best_auc < auc:\n",
    "            best_auc = auc\n",
    "            best_ntree = ntree\n",
    "            best_max_depth = max_depth\n",
    "print('--')            \n",
    "print(f\"best ntree: {best_ntree}, best max_depth: {best_max_depth}, AUC: {best_auc}\")"
   ]
  },
  {
   "cell_type": "markdown",
   "metadata": {},
   "source": [
    "ROC-curve on the test set (optimal parameters)"
   ]
  },
  {
   "cell_type": "code",
   "execution_count": 27,
   "metadata": {},
   "outputs": [
    {
     "data": {
      "text/plain": [
       "Text(0.5, 1.0, '[SPAM], ntree: 5, max_depth: 5, AUC: 0.9401178231686772, accuracy: 0.8045602605863192')"
      ]
     },
     "execution_count": 27,
     "metadata": {},
     "output_type": "execute_result"
    },
    {
     "data": {
      "image/png": "[encoded data removed]",
      "text/plain": [
       "<Figure size 864x576 with 1 Axes>"
      ]
     },
     "metadata": {},
     "output_type": "display_data"
    }
   ],
   "source": [
    "ntree = best_ntree\n",
    "max_depth = best_max_depth\n",
    "rf = RandomForest()\n",
    "rf.fit(X_train, y_train, ntree=ntree, max_depth=max_depth)\n",
    "probs, classes = rf.predict(X_test)\n",
    "\n",
    "auc, points_x, points_y = ROC_AUC(y_test, probs[:, 1]) # probabilities of the 2nd class\n",
    "accuracy = accuracy_score(y_test, classes)\n",
    "\n",
    "plt.figure(figsize=(12, 8))\n",
    "plt.plot(points_x, points_y)\n",
    "plt.title(f\"[SPAM], ntree: {ntree}, max_depth: {max_depth}, AUC: {auc}, accuracy: {accuracy}\")"
   ]
  },
  {
   "cell_type": "markdown",
   "metadata": {},
   "source": [
    "### Cancer dataset"
   ]
  },
  {
   "cell_type": "code",
   "execution_count": 28,
   "metadata": {},
   "outputs": [],
   "source": [
    "cancer_df = pd.read_csv('cancer.csv')\n",
    "cancer_df['int_label'] = cancer_df.label.map({'M':1, 'B':0})\n",
    "cancer_df['label'] = cancer_df.int_label\n",
    "cancer_df.drop('int_label', axis=1, inplace=True)\n",
    "X = cancer_df[cancer_df.columns.difference(['label'])].values\n",
    "y = cancer_df.label.values\n",
    "X_train, X_test, y_train, y_test = train_test_split(X, y, test_size=0.2, random_state=42)"
   ]
  },
  {
   "cell_type": "markdown",
   "metadata": {},
   "source": [
    "20 trees, max_depth = 3"
   ]
  },
  {
   "cell_type": "code",
   "execution_count": 29,
   "metadata": {},
   "outputs": [
    {
     "data": {
      "text/plain": [
       "Text(0.5, 1.0, '[Cancer], ntree: 20, max_depth:3, AUC: 0.9967245332459868, accuracy: 0.9473684210526315')"
      ]
     },
     "execution_count": 29,
     "metadata": {},
     "output_type": "execute_result"
    },
    {
     "data": {
      "image/png": "[encoded data removed]",
      "text/plain": [
       "<Figure size 864x576 with 1 Axes>"
      ]
     },
     "metadata": {},
     "output_type": "display_data"
    }
   ],
   "source": [
    "ntree = 20\n",
    "max_depth = 3\n",
    "rf = RandomForest()\n",
    "rf.fit(X_train, y_train, ntree=ntree, max_depth=max_depth)\n",
    "probs, classes = rf.predict(X_test)\n",
    "\n",
    "auc, points_x, points_y = ROC_AUC(y_test, probs[:, 1]) # probabilities of the 2nd class\n",
    "accuracy = accuracy_score(y_test, classes)\n",
    "\n",
    "plt.figure(figsize=(12, 8))\n",
    "plt.plot(points_x, points_y)\n",
    "plt.title(f\"[Cancer], ntree: {ntree}, max_depth:{max_depth}, AUC: {auc}, accuracy: {accuracy}\")"
   ]
  },
  {
   "cell_type": "markdown",
   "metadata": {},
   "source": [
    "Cross validation"
   ]
  },
  {
   "cell_type": "code",
   "execution_count": 31,
   "metadata": {},
   "outputs": [
    {
     "name": "stdout",
     "output_type": "stream",
     "text": [
      "ntree: 5, max_depth: 2, auc: 0.9879630226057665\n",
      "ntree: 5, max_depth: 3, auc: 0.9873810447733126\n",
      "ntree: 5, max_depth: 5, auc: 0.987728825452822\n",
      "ntree: 5, max_depth: 7, auc: 0.9861590260333953\n",
      "ntree: 5, max_depth: 10, auc: 0.9870802168714595\n",
      "ntree: 10, max_depth: 2, auc: 0.9848673491940779\n",
      "ntree: 10, max_depth: 3, auc: 0.9888155682291563\n",
      "ntree: 10, max_depth: 5, auc: 0.9877790551940265\n",
      "ntree: 10, max_depth: 7, auc: 0.9885234863105076\n",
      "ntree: 10, max_depth: 10, auc: 0.9892265850837786\n",
      "ntree: 20, max_depth: 2, auc: 0.9825587228826793\n",
      "ntree: 20, max_depth: 3, auc: 0.9840442300514869\n",
      "ntree: 20, max_depth: 5, auc: 0.9892623192537455\n",
      "ntree: 20, max_depth: 7, auc: 0.9902956059589126\n",
      "ntree: 20, max_depth: 10, auc: 0.9872028188745942\n",
      "ntree: 30, max_depth: 2, auc: 0.9817220646216939\n",
      "ntree: 30, max_depth: 3, auc: 0.9867356196371435\n",
      "ntree: 30, max_depth: 5, auc: 0.9853257467620319\n",
      "ntree: 30, max_depth: 7, auc: 0.990672645887261\n",
      "ntree: 30, max_depth: 10, auc: 0.9860565768361628\n",
      "ntree: 50, max_depth: 2, auc: 0.9841840815177123\n",
      "ntree: 50, max_depth: 3, auc: 0.9843424749814569\n",
      "ntree: 50, max_depth: 5, auc: 0.987455199262875\n",
      "ntree: 50, max_depth: 7, auc: 0.9886944086507734\n",
      "ntree: 50, max_depth: 10, auc: 0.9907805311117694\n",
      "ntree: 100, max_depth: 2, auc: 0.9852700570081708\n",
      "ntree: 100, max_depth: 3, auc: 0.9873105620041944\n",
      "ntree: 100, max_depth: 5, auc: 0.9878383126983966\n",
      "ntree: 100, max_depth: 7, auc: 0.9909180352659736\n",
      "ntree: 100, max_depth: 10, auc: 0.9878272399202244\n",
      "--\n",
      "best ntree: 100, best max_depth: 7, AUC: 0.9909180352659736\n"
     ]
    }
   ],
   "source": [
    "ntree_p = [5, 10, 20, 30, 50, 100]\n",
    "max_depth_p = [2, 3, 5, 7, 10]\n",
    "\n",
    "best_auc = None\n",
    "best_ntree = None\n",
    "best_max_depth = None\n",
    "\n",
    "kf = KFold(n_splits=5, random_state=42, shuffle=True)\n",
    "for ntree in ntree_p:\n",
    "    for max_depth in max_depth_p:\n",
    "        roc_auc_CV = []\n",
    "        for train_index, val_index in kf.split(X_train):\n",
    "            X_train_new, X_val = X_train[train_index], X_train[val_index]\n",
    "            y_train_new, y_val = y_train[train_index], y_train[val_index]\n",
    "            rf = RandomForest()\n",
    "            rf.fit(X_train_new, y_train_new, ntree=ntree, max_depth=max_depth)\n",
    "            probs, classes = rf.predict(X_val)\n",
    "            auc, points_x, points_y = ROC_AUC(y_val, probs[:, 1])\n",
    "            roc_auc_CV.append(auc)\n",
    "        auc = np.mean(roc_auc_CV)\n",
    "        print(f\"ntree: {ntree}, max_depth: {max_depth}, auc: {auc}\")\n",
    "        if not best_auc or best_auc < auc:\n",
    "            best_auc = auc\n",
    "            best_ntree = ntree\n",
    "            best_max_depth = max_depth\n",
    "print('--')            \n",
    "print(f\"best ntree: {best_ntree}, best max_depth: {best_max_depth}, AUC: {best_auc}\")"
   ]
  },
  {
   "cell_type": "markdown",
   "metadata": {},
   "source": [
    "ROC-curve on the test set (optimal parameters)"
   ]
  },
  {
   "cell_type": "code",
   "execution_count": 32,
   "metadata": {},
   "outputs": [
    {
     "data": {
      "text/plain": [
       "Text(0.5, 1.0, '[Cancer], ntree: 100, max_depth: 7, AUC: 0.997052079921388, accuracy: 0.9649122807017544')"
      ]
     },
     "execution_count": 32,
     "metadata": {},
     "output_type": "execute_result"
    },
    {
     "data": {
      "image/png": "[encoded data removed]",
      "text/plain": [
       "<Figure size 864x576 with 1 Axes>"
      ]
     },
     "metadata": {},
     "output_type": "display_data"
    }
   ],
   "source": [
    "ntree = best_ntree\n",
    "max_depth = best_max_depth\n",
    "rf = RandomForest()\n",
    "rf.fit(X_train, y_train, ntree=ntree, max_depth=max_depth)\n",
    "probs, classes = rf.predict(X_test)\n",
    "\n",
    "auc, points_x, points_y = ROC_AUC(y_test, probs[:, 1]) # probabilities of the 2nd class\n",
    "accuracy = accuracy_score(y_test, classes)\n",
    "\n",
    "plt.figure(figsize=(12, 8))\n",
    "plt.plot(points_x, points_y)\n",
    "plt.title(f\"[Cancer], ntree: {ntree}, max_depth: {max_depth}, AUC: {auc}, accuracy: {accuracy}\")"
   ]
  },
  {
   "cell_type": "markdown",
   "metadata": {},
   "source": [
    "# Задание 4"
   ]
  },
  {
   "cell_type": "code",
   "execution_count": null,
   "metadata": {},
   "outputs": [],
   "source": []
  }
 ],
 "metadata": {
  "kernelspec": {
   "display_name": "Python 3",
   "language": "python",
   "name": "python3"
  },
  "language_info": {
   "codemirror_mode": {
    "name": "ipython",
    "version": 3
   },
   "file_extension": ".py",
   "mimetype": "text/x-python",
   "name": "python",
   "nbconvert_exporter": "python",
   "pygments_lexer": "ipython3",
   "version": "3.6.9"
  }
 },
 "nbformat": 4,
 "nbformat_minor": 2
}
